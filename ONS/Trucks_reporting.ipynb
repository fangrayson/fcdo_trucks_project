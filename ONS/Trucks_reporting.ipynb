{
 "cells": [
  {
   "cell_type": "raw",
   "metadata": {},
   "source": [
    "---\n",
    "title: \"Trucks Reporting\"\n",
    "format:\n",
    "  html:\n",
    "    highlight: null\n",
    "    theme: default\n",
    "    toc: true\n",
    "    toc-title: Contents\n",
    "    toc-location: right\n",
    "    toc-depth: 3\n",
    "    number-sections: true \n",
    "    link-external-newwindow: true\n",
    "    embed-resources: true\n",
    "---"
   ]
  },
  {
   "cell_type": "markdown",
   "metadata": {},
   "source": [
    "![](../images/DSC_LOGO_RGB_FULL_COLOUR_2019.png){fig-alt=\"Data Science Campus and Analysis Function logos.\"}"
   ]
  },
  {
   "cell_type": "markdown",
   "metadata": {},
   "source": [
    "# Report for Graduate Project: Like Needles in a Haystack: Detecting Truck volumes on Roads in Namibia using Imbalanced Classification"
   ]
  },
  {
   "cell_type": "markdown",
   "metadata": {},
   "source": [
    "### Brief\n",
    "\n",
    "The Namibia Statistics Agency (NSA) wants you to report your findings from the sentinel-2 data modelling. You can structure this as a technical blog or brief research communication, ensuring you provide:\n",
    "1. Introduction and overview to the methods you applied and how these address the knowledge gap specified by the NSA in their efforts for road traffic monitoring and wider research aims\n",
    "2. A succinct overview of the steps you took in data processing, model fitting & evaluation.\n",
    "3. Results- this includes results in both model evaluation in finding the optimal model and the predictions from your final model. \n",
    "\n",
    "     > Note you can visualise the final prediction shapefiles in the QGIS GUI and import screengrabs into this notebook. \n",
    "4. A discussion of the results, what were you able to acheive with the analysis, what were the limitations and what next steps could you take going forward.\n"
   ]
  },
  {
   "cell_type": "markdown",
   "metadata": {},
   "source": [
    "## Save this notebook as a HTML report\n",
    "\n",
    "When you are happy with the outputs (ensuring all text is provided in markdown cells), then you can save this notebook as a HTML report. These steps will give a HTML document in the outputs folder, with only the markdown cells and cell outputs, hiding the input code used to load and plot data and external images:\n",
    "\n",
    "1. open an anaconda prompt window\n",
    "\n",
    "2. activate the trucks_mini conda environemnt \"conda activate trucks_mini\"\n",
    "\n",
    "3. change directory to the notebooks folder \"cd <path to notebooks folder>\"\n",
    "\n",
    "4. use the jupyter nbcovert function to convert this notebook to a HTML without the cell inputs showing (only markdown text and cell output will render) \"jupyter nbconvert --to html --no-input Trucks_reporting.ipynb --output ../outputs/<name_of_your_report_here>\". Your report is now located as a HTML in the outputs folder"
   ]
  }
 ],
 "metadata": {
  "jupytext": {
   "formats": "ipynb,md"
  },
  "kernelspec": {
   "display_name": "Python 3",
   "language": "python",
   "name": "python3"
  },
  "language_info": {
   "codemirror_mode": {
    "name": "ipython",
    "version": 3
   },
   "file_extension": ".py",
   "mimetype": "text/x-python",
   "name": "python",
   "nbconvert_exporter": "python",
   "pygments_lexer": "ipython3",
   "version": "3.8.3"
  }
 },
 "nbformat": 4,
 "nbformat_minor": 4
}
